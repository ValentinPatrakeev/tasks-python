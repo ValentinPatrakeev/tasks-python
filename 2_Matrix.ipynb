{
 "cells": [
  {
   "cell_type": "markdown",
   "id": "b13da62a",
   "metadata": {},
   "source": [
    "\n",
    "# Курс stepik Матрицы\n",
    "https://stepik.org/lesson/416754/step/1?unit=406262"
   ]
  },
  {
   "cell_type": "markdown",
   "id": "83039060",
   "metadata": {},
   "source": [
    "# 1. Вывести матрицу 1"
   ]
  },
  {
   "cell_type": "markdown",
   "id": "c2751b6c",
   "metadata": {},
   "source": [
    "На вход программе подаются два натуральных числа \n",
    "n и \n",
    "m, каждое на отдельной строке — количество строк и столбцов в матрице. Далее вводятся сами элементы матрицы — слова, каждое на отдельной строке; подряд идут элементы сначала первой строки, затем второй, и т.д.\n",
    "\n",
    "Напишите программу, которая сначала считывает элементы матрицы один за другим, затем выводит их в виде матрицы.\n",
    "\n",
    "Формат входных данных\n",
    "На вход программе подаются два числа \n",
    "n и \n",
    "m — количество строк и столбцов в матрице, далее идут \n",
    "×\n",
    "n×m слов, каждое на отдельной строке.\n",
    "\n",
    "Формат выходных данных\n",
    "Программа должна вывести считанную матрицу, разделяя ее элементы одним пробелом."
   ]
  },
  {
   "cell_type": "code",
   "execution_count": 2,
   "id": "4a7e6896",
   "metadata": {},
   "outputs": [
    {
     "name": "stdout",
     "output_type": "stream",
     "text": [
      "3\n",
      "3\n",
      "45\n",
      "45\n",
      "45\n",
      "45\n",
      "45\n",
      "45\n",
      "45\n",
      "45\n",
      "45\n",
      "45 45 45 \n",
      "45 45 45 \n",
      "45 45 45 \n"
     ]
    }
   ],
   "source": [
    "n = int(input())\n",
    "m = int(input())\n",
    "test = []\n",
    "mat = []\n",
    "\n",
    "\n",
    "for i in range(0,n):\n",
    "    for j in range(0,m):\n",
    "        row = input()\n",
    "        test.append(row)\n",
    "    mat.append(test)\n",
    "    test = []\n",
    "    \n",
    "\n",
    "for i in range(0,n):\n",
    "    for j in range(0,m):\n",
    "        print(f'{mat[i][j]}', end = \" \")\n",
    "    print()"
   ]
  },
  {
   "cell_type": "markdown",
   "id": "3d23ca8f",
   "metadata": {},
   "source": [
    "##### 2. Вывести матрицу 2"
   ]
  },
  {
   "cell_type": "markdown",
   "id": "c625c3d1",
   "metadata": {},
   "source": [
    "На вход программе подаются два натуральных числа \n",
    "n и m, каждое на отдельной строке — количество строк и столбцов в матрице. Далее вводятся сами элементы матрицы — слова, каждое на отдельной строке; подряд идут элементы сначала первой строки, затем второй, и т.д.\n",
    "\n",
    "Напишите программу, которая считывает элементы матрицы один за другим, выводит их в виде матрицы, выводит пустую строку, и снова ту же матрицу, но уже поменяв местами строки со столбцами: первая строка выводится как первый столбец, и так далее.\n",
    "\n",
    "Формат входных данных\n",
    "На вход программе подаются два числа n и m — количество строк и столбцов в матрице, далее идут × n×m слов, каждое на отдельной строке.\n",
    "\n",
    "Формат выходных данных\n",
    "Программа должна вывести считанную матрицу, за ней пустую строку, и ту же матрицу, но поменяв местами строки со столбцами. Элементы матрицы разделять одним пробелом."
   ]
  },
  {
   "cell_type": "code",
   "execution_count": 9,
   "id": "6b90aca0",
   "metadata": {},
   "outputs": [
    {
     "name": "stdout",
     "output_type": "stream",
     "text": [
      "4\n",
      "2\n",
      "и\n",
      "швец\n",
      "и\n",
      "жнец\n",
      "и\n",
      "на\n",
      "дуде\n",
      "игрец\n",
      "и швец \n",
      "и жнец \n",
      "и на \n",
      "дуде игрец \n",
      "\n",
      "и и и дуде \n",
      "швец жнец на игрец \n"
     ]
    }
   ],
   "source": [
    "n, m = (int(input()), int(input()))\n",
    "test = []\n",
    "mat = []\n",
    "\n",
    "\n",
    "for i in range(0,n):\n",
    "    for j in range(0,m):\n",
    "        row = input()\n",
    "        test.append(row)\n",
    "    mat.append(test)\n",
    "    test = []\n",
    "    \n",
    "\n",
    "for i in range(0,n):\n",
    "    for j in range(0,m):\n",
    "        print(f'{mat[i][j]}', end = \" \")\n",
    "    print()\n",
    "\n",
    "print()\n",
    "for i in range(0,m):\n",
    "    for j in range(0,n):\n",
    "        print(f'{mat[j][i]}', end = \" \")\n",
    "    print()"
   ]
  },
  {
   "cell_type": "markdown",
   "id": "d7f3224c",
   "metadata": {},
   "source": [
    "# 3. След матрицы"
   ]
  },
  {
   "cell_type": "markdown",
   "id": "3971e47d",
   "metadata": {},
   "source": [
    "\n",
    "\n"
   ]
  },
  {
   "cell_type": "markdown",
   "id": "84acb1e4",
   "metadata": {},
   "source": [
    "Следом квадратной матрицы называется сумма элементов главной диагонали. Напишите программу, которая выводит след заданной квадратной матрицы.\n",
    "\n",
    "Формат входных данных\n",
    "На вход программе подаётся натуральное число n — количество строк и столбцов в матрице, затем элементы матрицы (целые числа) построчно через пробел.\n",
    "\n",
    "Формат выходных данных\n",
    "Программа должна вывести одно число — след заданной матрицы."
   ]
  },
  {
   "cell_type": "code",
   "execution_count": 7,
   "id": "282f6373",
   "metadata": {},
   "outputs": [
    {
     "name": "stdout",
     "output_type": "stream",
     "text": [
      "3\n",
      "3 3 3\n",
      "3 3 3\n",
      "3 3 3\n",
      "9\n"
     ]
    }
   ],
   "source": [
    "n = int(input())\n",
    "matrix = []\n",
    "sum = 0\n",
    "for i in range(0, n):\n",
    "    row = list(map(int,input().split()))\n",
    "    matrix.append(row)\n",
    "\n",
    "for i in range(0, n):\n",
    "    for j in range(0,n):\n",
    "        if i == j:\n",
    "            sum += matrix[i][j]\n",
    "\n",
    "print(sum)"
   ]
  },
  {
   "cell_type": "code",
   "execution_count": 6,
   "id": "e994d090",
   "metadata": {},
   "outputs": [
    {
     "name": "stdout",
     "output_type": "stream",
     "text": [
      "3\n",
      "3 3 3\n",
      "3 3 3\n",
      "3 3 3\n",
      "9\n"
     ]
    }
   ],
   "source": [
    "res = 0\n",
    "\n",
    "for i in range(0, int(input())):\n",
    "    res += int(input().split()[i])\n",
    "    \n",
    "print(res)\n"
   ]
  }
 ],
 "metadata": {
  "kernelspec": {
   "display_name": "Python 3 (ipykernel)",
   "language": "python",
   "name": "python3"
  },
  "language_info": {
   "codemirror_mode": {
    "name": "ipython",
    "version": 3
   },
   "file_extension": ".py",
   "mimetype": "text/x-python",
   "name": "python",
   "nbconvert_exporter": "python",
   "pygments_lexer": "ipython3",
   "version": "3.9.13"
  }
 },
 "nbformat": 4,
 "nbformat_minor": 5
}
